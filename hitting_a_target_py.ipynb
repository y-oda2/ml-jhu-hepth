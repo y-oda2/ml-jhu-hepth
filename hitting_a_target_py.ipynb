{
  "nbformat": 4,
  "nbformat_minor": 0,
  "metadata": {
    "colab": {
      "name": "hitting_a_target.py",
      "provenance": [],
      "include_colab_link": true
    },
    "kernelspec": {
      "name": "python3",
      "display_name": "Python 3"
    }
  },
  "cells": [
    {
      "cell_type": "markdown",
      "metadata": {
        "id": "view-in-github",
        "colab_type": "text"
      },
      "source": [
        "<a href=\"https://colab.research.google.com/github/y-oda2/ml-jhu-hepth/blob/master/hitting_a_target_py.ipynb\" target=\"_parent\"><img src=\"https://colab.research.google.com/assets/colab-badge.svg\" alt=\"Open In Colab\"/></a>"
      ]
    },
    {
      "cell_type": "code",
      "metadata": {
        "id": "ygvG7tDGV8LB",
        "colab_type": "code",
        "colab": {}
      },
      "source": [
        "from scipy.stats import norm\n",
        "import matplotlib.mlab as mlab\n",
        "import matplotlib.pyplot as plt\n",
        "\n",
        "mean = 1\n",
        "sdv = 1\n",
        "\n",
        "data = np.random.normal(mean, sdv, 40)\n",
        "\n",
        "# best fit of data\n",
        "(mu, sigma) = norm.fit(data)\n"
      ],
      "execution_count": 0,
      "outputs": []
    },
    {
      "cell_type": "code",
      "metadata": {
        "id": "keCa1uORBjoi",
        "colab_type": "code",
        "outputId": "8d593542-9ca5-4bbc-f35a-341f0d95ea1b",
        "colab": {
          "base_uri": "https://localhost:8080/",
          "height": 347
        }
      },
      "source": [
        "data_small = np.array([i for i in data if i<mu+sigma and i>mu-sigma])\n",
        "\n",
        "# the histogram of the data\n",
        "n, bins, patches = plt.hist(data, 60, normed=1)\n",
        "\n",
        "# add a 'best fit' line\n",
        "y = mlab.normpdf( bins, mu, sigma)\n",
        "l = plt.plot(bins, y, linewidth=1)\n",
        "\n",
        "# fil = [True if i<mu+sigma and i>mu-sigma else False for i in bins]\n",
        "# from itertools import compress\n",
        "# bins_small = np.array(list(compress(bins, fil)))\n",
        "# n_small = np.array(list(compress(n, fil)))\n",
        "# plt.hist(bins_small[:-1], bins_small, weights=n)\n",
        "\n",
        "x1 = 23\n",
        "x2 = 32\n",
        "for i in range(0,x1):\n",
        "    patches[i].set_facecolor('#1f77b4')\n",
        "for i in range(x1,x2):    \n",
        "    patches[i].set_facecolor('g')\n",
        "for i in range(x2, len(patches)):\n",
        "    patches[i].set_facecolor('#1f77b4')\n",
        "\n",
        "\n",
        "plt.xlim([mu-2*sigma,mu+2*sigma])\n",
        "plt.ylim([0,1.6])\n",
        "plt.xticks([])\n",
        "plt.yticks([])\n",
        "plt.axvline(x=mu, ymax=.28, color='black', linestyle='-', linewidth=2)\n",
        "plt.axvline(x=mu-sigma, ymax=.17, color='black', linestyle='--', linewidth=2)\n",
        "plt.axvline(x=mu+sigma, ymax=.17, color='black', linestyle='--', linewidth=2)\n",
        "plt.show()"
      ],
      "execution_count": 0,
      "outputs": [
        {
          "output_type": "stream",
          "text": [
            "/usr/local/lib/python3.6/dist-packages/matplotlib/axes/_axes.py:6521: MatplotlibDeprecationWarning: \n",
            "The 'normed' kwarg was deprecated in Matplotlib 2.1 and will be removed in 3.1. Use 'density' instead.\n",
            "  alternative=\"'density'\", removal=\"3.1\")\n",
            "/usr/local/lib/python3.6/dist-packages/ipykernel_launcher.py:7: MatplotlibDeprecationWarning: scipy.stats.norm.pdf\n",
            "  import sys\n"
          ],
          "name": "stderr"
        },
        {
          "output_type": "display_data",
          "data": {
            "image/png": "[encoded data removed]",
            "text/plain": [
              "<Figure size 432x288 with 1 Axes>"
            ]
          },
          "metadata": {
            "tags": []
          }
        }
      ]
    },
    {
      "cell_type": "code",
      "metadata": {
        "id": "1yxtxVBuEcvL",
        "colab_type": "code",
        "outputId": "b3b6698e-d149-42a2-cc13-dc50937b69c3",
        "colab": {
          "base_uri": "https://localhost:8080/",
          "height": 128
        }
      },
      "source": [
        "fil = [True if i<mu+sigma and i>mu-sigma else False for i in bins]\n",
        "from itertools import compress\n",
        "np.array(list(compress(bins, fil)))"
      ],
      "execution_count": 0,
      "outputs": [
        {
          "output_type": "execute_result",
          "data": {
            "text/plain": [
              "array([-0.07716381, -0.00848181,  0.06020019,  0.12888219,  0.19756419,\n",
              "        0.26624619,  0.33492819,  0.40361019,  0.47229219,  0.54097419,\n",
              "        0.60965619,  0.67833819,  0.74702018,  0.81570218,  0.88438418,\n",
              "        0.95306618,  1.02174818,  1.09043018,  1.15911218,  1.22779418,\n",
              "        1.29647618,  1.36515818,  1.43384018,  1.50252218,  1.57120418,\n",
              "        1.63988617,  1.70856817,  1.77725017])"
            ]
          },
          "metadata": {
            "tags": []
          },
          "execution_count": 125
        }
      ]
    },
    {
      "cell_type": "code",
      "metadata": {
        "id": "6nIA3-QFYRK8",
        "colab_type": "code",
        "colab": {}
      },
      "source": [
        ""
      ],
      "execution_count": 0,
      "outputs": []
    }
  ]
}