{
  "nbformat": 4,
  "nbformat_minor": 0,
  "metadata": {
    "colab": {
      "name": "random_nn.ipynb",
      "provenance": [],
      "collapsed_sections": []
    },
    "kernelspec": {
      "name": "python3",
      "display_name": "Python 3"
    },
    "accelerator": "GPU"
  },
  "cells": [
    {
      "cell_type": "code",
      "metadata": {
        "id": "h-G7ZxTWsXLH",
        "colab_type": "code",
        "colab": {}
      },
      "source": [
        "import tensorflow as tf\n",
        "import numpy as np\n",
        "from tensorflow import keras"
      ],
      "execution_count": 0,
      "outputs": []
    },
    {
      "cell_type": "code",
      "metadata": {
        "id": "Ki4Q_vjzNylW",
        "colab_type": "code",
        "colab": {}
      },
      "source": [
        "train_data = np.random.normal(0,1,(10000,28,28))\n",
        "train_labels = np.random.normal(0,1,(10000,2))\n",
        "\n",
        "test_data = np.random.normal(0,1,(1000,28,28))\n",
        "test_labels = np.random.normal(0,1,(1000,2))\n"
      ],
      "execution_count": 0,
      "outputs": []
    },
    {
      "cell_type": "code",
      "metadata": {
        "id": "mdR32GO6sq2n",
        "colab_type": "code",
        "colab": {}
      },
      "source": [
        "model = keras.models.Sequential([\n",
        "  keras.layers.Flatten(input_shape=(28, 28)),\n",
        "\tkeras.layers.Dense(32, activation='relu'),\n",
        "  keras.layers.Dense(64, activation='relu'),\n",
        "  keras.layers.Dense(128, activation='relu'),\n",
        "  keras.layers.Dense(64, activation='relu'),  \n",
        "  keras.layers.Dense(32, activation='relu'),\n",
        "\tkeras.layers.Dense(2, activation='softmax')\n",
        "\t])\n",
        "\n",
        "model.compile(optimizer='adam', loss='mean_squared_error', metrics=['accuracy'])"
      ],
      "execution_count": 0,
      "outputs": []
    },
    {
      "cell_type": "code",
      "metadata": {
        "id": "8roHnBiXuXVr",
        "colab_type": "code",
        "colab": {
          "base_uri": "https://localhost:8080/",
          "height": 225
        },
        "outputId": "522d3906-eb97-4604-a95f-bb5398492aee"
      },
      "source": [
        "model.fit(train_data, train_labels, epochs=5)\n",
        "\n",
        "model.evaluate(test_data, test_labels,verbose=0)"
      ],
      "execution_count": 187,
      "outputs": [
        {
          "output_type": "stream",
          "text": [
            "Train on 10000 samples\n",
            "Epoch 1/5\n",
            "10000/10000 [==============================] - 1s 149us/sample - loss: 0.9746 - acc: 0.8526\n",
            "Epoch 2/5\n",
            "10000/10000 [==============================] - 1s 150us/sample - loss: 0.9541 - acc: 0.8812\n",
            "Epoch 3/5\n",
            "10000/10000 [==============================] - 2s 152us/sample - loss: 0.9439 - acc: 0.8966\n",
            "Epoch 4/5\n",
            "10000/10000 [==============================] - 2s 157us/sample - loss: 0.9384 - acc: 0.9068\n",
            "Epoch 5/5\n",
            "10000/10000 [==============================] - 2s 154us/sample - loss: 0.9335 - acc: 0.9143\n"
          ],
          "name": "stdout"
        },
        {
          "output_type": "execute_result",
          "data": {
            "text/plain": [
              "[1.4128111400604249, 0.501]"
            ]
          },
          "metadata": {
            "tags": []
          },
          "execution_count": 187
        }
      ]
    },
    {
      "cell_type": "code",
      "metadata": {
        "id": "Z1tr9sW8Ofek",
        "colab_type": "code",
        "colab": {}
      },
      "source": [
        "X = np.random.normal(0,1,(10000,28,28))\n",
        "y = model.predict(X)"
      ],
      "execution_count": 0,
      "outputs": []
    },
    {
      "cell_type": "code",
      "metadata": {
        "id": "_winCv83WQ97",
        "colab_type": "code",
        "colab": {
          "base_uri": "https://localhost:8080/",
          "height": 225
        },
        "outputId": "2659b943-fc24-4091-8007-3e0ab5c8d523"
      },
      "source": [
        "model_small = keras.models.Sequential([\n",
        "  keras.layers.Flatten(input_shape=(28, 28)),\n",
        "\tkeras.layers.Dense(6, activation='relu'),\n",
        "\tkeras.layers.Dense(2, activation='softmax')\n",
        "\t])\n",
        "\n",
        "model_small.compile(optimizer='adam', loss='mean_squared_error', metrics=['accuracy'])\n",
        "\n",
        "model_small.fit(X, y, epochs=5)\n",
        "\n",
        "model_small.evaluate(test_data, test_labels, verbose=0)"
      ],
      "execution_count": 190,
      "outputs": [
        {
          "output_type": "stream",
          "text": [
            "Train on 10000 samples\n",
            "Epoch 1/5\n",
            "10000/10000 [==============================] - 2s 166us/sample - loss: 0.1828 - acc: 0.5250\n",
            "Epoch 2/5\n",
            "10000/10000 [==============================] - 1s 122us/sample - loss: 0.1314 - acc: 0.6359\n",
            "Epoch 3/5\n",
            "10000/10000 [==============================] - 1s 124us/sample - loss: 0.1181 - acc: 0.6829\n",
            "Epoch 4/5\n",
            "10000/10000 [==============================] - 1s 122us/sample - loss: 0.1098 - acc: 0.7054\n",
            "Epoch 5/5\n",
            "10000/10000 [==============================] - 1s 124us/sample - loss: 0.1031 - acc: 0.7293\n"
          ],
          "name": "stdout"
        },
        {
          "output_type": "execute_result",
          "data": {
            "text/plain": [
              "[1.3205431632995606, 0.482]"
            ]
          },
          "metadata": {
            "tags": []
          },
          "execution_count": 190
        }
      ]
    },
    {
      "cell_type": "code",
      "metadata": {
        "id": "J8m6vClReOvA",
        "colab_type": "code",
        "colab": {}
      },
      "source": [
        ""
      ],
      "execution_count": 0,
      "outputs": []
    }
  ]
}