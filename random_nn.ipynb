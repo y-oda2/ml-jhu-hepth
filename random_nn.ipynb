{
  "nbformat": 4,
  "nbformat_minor": 0,
  "metadata": {
    "colab": {
      "name": "random_nn.ipynb",
      "provenance": [],
      "collapsed_sections": [],
      "include_colab_link": true
    },
    "kernelspec": {
      "name": "python3",
      "display_name": "Python 3"
    },
    "accelerator": "GPU"
  },
  "cells": [
    {
      "cell_type": "markdown",
      "metadata": {
        "id": "view-in-github",
        "colab_type": "text"
      },
      "source": [
        "<a href=\"https://colab.research.google.com/github/y-oda2/ml-jhu-hepth/blob/master/random_nn.ipynb\" target=\"_parent\"><img src=\"https://colab.research.google.com/assets/colab-badge.svg\" alt=\"Open In Colab\"/></a>"
      ]
    },
    {
      "cell_type": "code",
      "metadata": {
        "id": "h-G7ZxTWsXLH",
        "colab_type": "code",
        "colab": {}
      },
      "source": [
        "import tensorflow as tf\n",
        "import numpy as np\n",
        "from tensorflow import keras\n",
        "#from tensorflow.keras.preprocessing.image import ImageDataGenerator"
      ],
      "execution_count": 0,
      "outputs": []
    },
    {
      "cell_type": "code",
      "metadata": {
        "id": "Ki4Q_vjzNylW",
        "colab_type": "code",
        "colab": {}
      },
      "source": [
        "fashion_mnist = keras.datasets.fashion_mnist\n",
        "(train_images, train_labels), (test_images, test_labels) = fashion_mnist.load_data()\n",
        "\n",
        "train_images_random = np.random.normal(10,1,(6000,28,28))/10\n",
        "train_labels_random = np.random.normal(10,1,(6000,10))/10\n",
        "\n",
        "test_images_random = np.random.normal(10,1,(1000,28,28))/10\n",
        "test_labels_random = np.random.normal(10,1,(1000,10))/10\n"
      ],
      "execution_count": 0,
      "outputs": []
    },
    {
      "cell_type": "code",
      "metadata": {
        "id": "mdR32GO6sq2n",
        "colab_type": "code",
        "colab": {}
      },
      "source": [
        "model = keras.models.Sequential([\n",
        "  keras.layers.Flatten(input_shape=(28, 28)),\n",
        "\tkeras.layers.Dense(32, activation='relu'),\n",
        "  keras.layers.Dense(64, activation='relu'),\n",
        "  keras.layers.Dense(128, activation='relu'),\n",
        "  keras.layers.Dense(64, activation='relu'),  \n",
        "  keras.layers.Dense(32, activation='relu'),\n",
        "\tkeras.layers.Dense(10, activation='softmax')\n",
        "\t])"
      ],
      "execution_count": 0,
      "outputs": []
    },
    {
      "cell_type": "code",
      "metadata": {
        "id": "2_D_KW2qtwDs",
        "colab_type": "code",
        "colab": {}
      },
      "source": [
        "model.compile(optimizer='adam', loss='mean_squared_error', metrics=['accuracy'])"
      ],
      "execution_count": 0,
      "outputs": []
    },
    {
      "cell_type": "code",
      "metadata": {
        "id": "8roHnBiXuXVr",
        "colab_type": "code",
        "colab": {
          "base_uri": "https://localhost:8080/",
          "height": 225
        },
        "outputId": "c478d01e-01e2-494b-b76d-d4c5d1927981"
      },
      "source": [
        "model.fit(train_images_random, train_labels_random, epochs=5)"
      ],
      "execution_count": 96,
      "outputs": [
        {
          "output_type": "stream",
          "text": [
            "Train on 6000 samples\n",
            "Epoch 1/5\n",
            "6000/6000 [==============================] - 1s 185us/sample - loss: 0.8196 - acc: 0.1000\n",
            "Epoch 2/5\n",
            "6000/6000 [==============================] - 1s 147us/sample - loss: 0.8196 - acc: 0.0992\n",
            "Epoch 3/5\n",
            "6000/6000 [==============================] - 1s 146us/sample - loss: 0.8196 - acc: 0.0970\n",
            "Epoch 4/5\n",
            "6000/6000 [==============================] - 1s 143us/sample - loss: 0.8196 - acc: 0.1098\n",
            "Epoch 5/5\n",
            "6000/6000 [==============================] - 1s 144us/sample - loss: 0.8196 - acc: 0.1045\n"
          ],
          "name": "stdout"
        },
        {
          "output_type": "execute_result",
          "data": {
            "text/plain": [
              "<tensorflow.python.keras.callbacks.History at 0x7fe47c68f2b0>"
            ]
          },
          "metadata": {
            "tags": []
          },
          "execution_count": 96
        }
      ]
    },
    {
      "cell_type": "code",
      "metadata": {
        "id": "89hvDm2WLsE2",
        "colab_type": "code",
        "colab": {
          "base_uri": "https://localhost:8080/",
          "height": 34
        },
        "outputId": "673ebf5d-d7d5-4201-ec20-4918313617fd"
      },
      "source": [
        "model.evaluate(test_images_random, test_labels_random,verbose=0)"
      ],
      "execution_count": 97,
      "outputs": [
        {
          "output_type": "execute_result",
          "data": {
            "text/plain": [
              "[0.8205708627700805, 0.088]"
            ]
          },
          "metadata": {
            "tags": []
          },
          "execution_count": 97
        }
      ]
    },
    {
      "cell_type": "code",
      "metadata": {
        "id": "Z1tr9sW8Ofek",
        "colab_type": "code",
        "colab": {
          "base_uri": "https://localhost:8080/",
          "height": 104
        },
        "outputId": "ca315767-6f4a-43ec-e934-98bd377f5569"
      },
      "source": [
        "model.predict(test_images_random[1:3])"
      ],
      "execution_count": 98,
      "outputs": [
        {
          "output_type": "execute_result",
          "data": {
            "text/plain": [
              "array([[0.10028438, 0.10139889, 0.09897581, 0.09883007, 0.10111165,\n",
              "        0.09976491, 0.0992398 , 0.10024083, 0.10069113, 0.09946248],\n",
              "       [0.10028438, 0.10139889, 0.09897581, 0.09883007, 0.10111165,\n",
              "        0.09976491, 0.0992398 , 0.10024083, 0.10069113, 0.09946248]],\n",
              "      dtype=float32)"
            ]
          },
          "metadata": {
            "tags": []
          },
          "execution_count": 98
        }
      ]
    },
    {
      "cell_type": "code",
      "metadata": {
        "id": "_winCv83WQ97",
        "colab_type": "code",
        "colab": {}
      },
      "source": [
        ""
      ],
      "execution_count": 0,
      "outputs": []
    }
  ]
}