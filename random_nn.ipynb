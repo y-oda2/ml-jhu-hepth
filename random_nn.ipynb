{
  "nbformat": 4,
  "nbformat_minor": 0,
  "metadata": {
    "colab": {
      "name": "random_nn.ipynb",
      "provenance": [],
      "collapsed_sections": [],
      "include_colab_link": true
    },
    "kernelspec": {
      "name": "python3",
      "display_name": "Python 3"
    },
    "accelerator": "GPU"
  },
  "cells": [
    {
      "cell_type": "markdown",
      "metadata": {
        "id": "view-in-github",
        "colab_type": "text"
      },
      "source": [
        "<a href=\"https://colab.research.google.com/github/y-oda2/ml-jhu-hepth/blob/master/random_nn.ipynb\" target=\"_parent\"><img src=\"https://colab.research.google.com/assets/colab-badge.svg\" alt=\"Open In Colab\"/></a>"
      ]
    },
    {
      "cell_type": "code",
      "metadata": {
        "id": "h-G7ZxTWsXLH",
        "colab_type": "code",
        "colab": {}
      },
      "source": [
        "import tensorflow as tf\n",
        "import numpy as np\n",
        "from tensorflow import keras"
      ],
      "execution_count": 0,
      "outputs": []
    },
    {
      "cell_type": "code",
      "metadata": {
        "id": "Ki4Q_vjzNylW",
        "colab_type": "code",
        "colab": {}
      },
      "source": [
        "train_images_random = np.random.normal(0,1,(1000,28,28))\n",
        "train_labels_random = np.random.normal(0,1,(1000,2))\n",
        "\n",
        "test_images_random = np.random.normal(0,1,(100,28,28))\n",
        "test_labels_random = np.random.normal(0,1,(100,2))\n"
      ],
      "execution_count": 0,
      "outputs": []
    },
    {
      "cell_type": "code",
      "metadata": {
        "id": "mdR32GO6sq2n",
        "colab_type": "code",
        "colab": {}
      },
      "source": [
        "model = keras.models.Sequential([\n",
        "  keras.layers.Flatten(input_shape=(28, 28)),\n",
        "\tkeras.layers.Dense(32, activation='relu'),\n",
        "  keras.layers.Dense(64, activation='relu'), \n",
        "  keras.layers.Dense(32, activation='relu'),\n",
        "\tkeras.layers.Dense(2, activation='softmax')\n",
        "\t])\n",
        "\n",
        "model.compile(optimizer='adam', loss='mean_squared_error', metrics=['accuracy'])"
      ],
      "execution_count": 0,
      "outputs": []
    },
    {
      "cell_type": "code",
      "metadata": {
        "id": "8roHnBiXuXVr",
        "colab_type": "code",
        "colab": {
          "base_uri": "https://localhost:8080/",
          "height": 225
        },
        "outputId": "0fa4461f-f1bc-4514-f9b6-953b7e93dad8"
      },
      "source": [
        "model.fit(train_images_random, train_labels_random, epochs=5)"
      ],
      "execution_count": 160,
      "outputs": [
        {
          "output_type": "stream",
          "text": [
            "Train on 1000 samples\n",
            "Epoch 1/5\n",
            "1000/1000 [==============================] - 0s 372us/sample - loss: 1.2826 - acc: 0.4720\n",
            "Epoch 2/5\n",
            "1000/1000 [==============================] - 0s 147us/sample - loss: 1.1444 - acc: 0.7290\n",
            "Epoch 3/5\n",
            "1000/1000 [==============================] - 0s 131us/sample - loss: 1.0631 - acc: 0.7970\n",
            "Epoch 4/5\n",
            "1000/1000 [==============================] - 0s 136us/sample - loss: 0.9936 - acc: 0.8720\n",
            "Epoch 5/5\n",
            "1000/1000 [==============================] - 0s 130us/sample - loss: 0.9487 - acc: 0.9170\n"
          ],
          "name": "stdout"
        },
        {
          "output_type": "execute_result",
          "data": {
            "text/plain": [
              "<tensorflow.python.keras.callbacks.History at 0x7fe47ba4af28>"
            ]
          },
          "metadata": {
            "tags": []
          },
          "execution_count": 160
        }
      ]
    },
    {
      "cell_type": "code",
      "metadata": {
        "id": "89hvDm2WLsE2",
        "colab_type": "code",
        "colab": {
          "base_uri": "https://localhost:8080/",
          "height": 34
        },
        "outputId": "49310029-1883-44dc-9718-25ae9670368a"
      },
      "source": [
        "model.evaluate(test_images_random, test_labels_random,verbose=0)"
      ],
      "execution_count": 162,
      "outputs": [
        {
          "output_type": "execute_result",
          "data": {
            "text/plain": [
              "[1.5197480583190919, 0.47]"
            ]
          },
          "metadata": {
            "tags": []
          },
          "execution_count": 162
        }
      ]
    },
    {
      "cell_type": "code",
      "metadata": {
        "id": "Z1tr9sW8Ofek",
        "colab_type": "code",
        "colab": {
          "base_uri": "https://localhost:8080/",
          "height": 173
        },
        "outputId": "769eab67-a0cd-45fb-cfe0-190c74066210"
      },
      "source": [
        "model.predict(test_images_random[1:10])"
      ],
      "execution_count": 163,
      "outputs": [
        {
          "output_type": "execute_result",
          "data": {
            "text/plain": [
              "array([[0.48721164, 0.51278836],\n",
              "       [0.7392031 , 0.26079687],\n",
              "       [0.1430041 , 0.8569959 ],\n",
              "       [0.07478594, 0.9252141 ],\n",
              "       [0.1213995 , 0.87860054],\n",
              "       [0.84384745, 0.15615258],\n",
              "       [0.03259537, 0.9674046 ],\n",
              "       [0.5760903 , 0.42390972],\n",
              "       [0.55418974, 0.4458103 ]], dtype=float32)"
            ]
          },
          "metadata": {
            "tags": []
          },
          "execution_count": 163
        }
      ]
    },
    {
      "cell_type": "code",
      "metadata": {
        "id": "_winCv83WQ97",
        "colab_type": "code",
        "colab": {
          "base_uri": "https://localhost:8080/",
          "height": 173
        },
        "outputId": "003128ab-524b-4f45-838f-f6382f0355ab"
      },
      "source": [
        "model2 = keras.models.Sequential([\n",
        "  keras.layers.Flatten(input_shape=(28, 28)),\n",
        "\tkeras.layers.Dense(32, activation='relu'),\n",
        "  keras.layers.Dense(64, activation='relu'),\n",
        "  keras.layers.Dense(128, activation='relu'),\n",
        "  keras.layers.Dense(64, activation='relu'),  \n",
        "  keras.layers.Dense(32, activation='relu'),\n",
        "\tkeras.layers.Dense(2, activation='softmax')\n",
        "\t])\n",
        "\n",
        "model2.compile(optimizer='adam', loss='mean_squared_error', metrics=['accuracy'])\n",
        "\n",
        "model2.predict(train_images_random[1:10])"
      ],
      "execution_count": 164,
      "outputs": [
        {
          "output_type": "execute_result",
          "data": {
            "text/plain": [
              "array([[0.48992476, 0.5100752 ],\n",
              "       [0.5011714 , 0.49882856],\n",
              "       [0.52045095, 0.47954905],\n",
              "       [0.47097117, 0.52902883],\n",
              "       [0.5690843 , 0.4309157 ],\n",
              "       [0.50478756, 0.4952124 ],\n",
              "       [0.4657837 , 0.5342163 ],\n",
              "       [0.50037795, 0.49962202],\n",
              "       [0.5456714 , 0.45432857]], dtype=float32)"
            ]
          },
          "metadata": {
            "tags": []
          },
          "execution_count": 164
        }
      ]
    },
    {
      "cell_type": "code",
      "metadata": {
        "id": "J8m6vClReOvA",
        "colab_type": "code",
        "colab": {}
      },
      "source": [
        ""
      ],
      "execution_count": 0,
      "outputs": []
    }
  ]
}