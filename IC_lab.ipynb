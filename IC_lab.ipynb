{
  "nbformat": 4,
  "nbformat_minor": 0,
  "metadata": {
    "colab": {
      "name": "IC_lab.ipynb",
      "provenance": [],
      "include_colab_link": true
    },
    "kernelspec": {
      "name": "python3",
      "display_name": "Python 3"
    }
  },
  "cells": [
    {
      "cell_type": "markdown",
      "metadata": {
        "id": "view-in-github",
        "colab_type": "text"
      },
      "source": [
        "<a href=\"https://colab.research.google.com/github/y-oda2/ml-jhu-hepth/blob/master/IC_lab.ipynb\" target=\"_parent\"><img src=\"https://colab.research.google.com/assets/colab-badge.svg\" alt=\"Open In Colab\"/></a>"
      ]
    },
    {
      "cell_type": "code",
      "metadata": {
        "id": "dEG0d7sy3yYr",
        "colab_type": "code",
        "colab": {}
      },
      "source": [
        "import matplotlib.pyplot as plt\n",
        "import numpy as np"
      ],
      "execution_count": 0,
      "outputs": []
    },
    {
      "cell_type": "code",
      "metadata": {
        "id": "HXoJpJQc33lj",
        "colab_type": "code",
        "colab": {}
      },
      "source": [
        "F_pred = [.2,.3,.4,.5,.6,.7,.8]"
      ],
      "execution_count": 0,
      "outputs": []
    },
    {
      "cell_type": "code",
      "metadata": {
        "id": "KFPYYLRe4CTo",
        "colab_type": "code",
        "colab": {}
      },
      "source": [
        "samples = 6\n",
        "F_obs = np.zeros((len(F_pred), samples))\n",
        "for i in range(samples):\n",
        "  F_obs[:,i] = np.array([np.random.normal(F_pred[f],.07) for f in range(len(F_pred))])\n"
      ],
      "execution_count": 0,
      "outputs": []
    },
    {
      "cell_type": "code",
      "metadata": {
        "id": "FfwOmB4u5K_2",
        "colab_type": "code",
        "outputId": "103ccda7-9b65-40b7-c3b8-140faa1217ca",
        "colab": {
          "base_uri": "https://localhost:8080/",
          "height": 297
        }
      },
      "source": [
        "stds = [np.std(F_obs[i,:]) for i in range(len(F_pred))]\n",
        "\n",
        "for F_p, F_o in zip(F_pred, F_obs):\n",
        "    plt.scatter([F_p] * len(F_o), F_o)\n",
        "    \n",
        "plt.xlabel('F predicted')\n",
        "plt.ylabel('F observed')"
      ],
      "execution_count": 0,
      "outputs": [
        {
          "output_type": "execute_result",
          "data": {
            "text/plain": [
              "Text(0, 0.5, 'F observed')"
            ]
          },
          "metadata": {
            "tags": []
          },
          "execution_count": 4
        },
        {
          "output_type": "display_data",
          "data": {
            "image/png": "[encoded data removed]",
            "text/plain": [
              "<Figure size 432x288 with 1 Axes>"
            ]
          },
          "metadata": {
            "tags": []
          }
        }
      ]
    },
    {
      "cell_type": "code",
      "metadata": {
        "id": "zK25JAPZ6FkF",
        "colab_type": "code",
        "outputId": "22f86f96-da9c-48aa-f86e-d227dee1af77",
        "colab": {
          "base_uri": "https://localhost:8080/",
          "height": 297
        }
      },
      "source": [
        "for i in range(len(F_pred)):\n",
        "  plt.errorbar(F_pred[i], F_pred[i],yerr=stds[i], fmt='o', capsize=3)\n",
        "\n",
        "plt.xlabel('F predicted')\n",
        "plt.ylabel('F observed')"
      ],
      "execution_count": 0,
      "outputs": [
        {
          "output_type": "execute_result",
          "data": {
            "text/plain": [
              "Text(0, 0.5, 'F observed')"
            ]
          },
          "metadata": {
            "tags": []
          },
          "execution_count": 5
        },
        {
          "output_type": "display_data",
          "data": {
            "image/png": "[encoded data removed]",
            "text/plain": [
              "<Figure size 432x288 with 1 Axes>"
            ]
          },
          "metadata": {
            "tags": []
          }
        }
      ]
    },
    {
      "cell_type": "code",
      "metadata": {
        "id": "lkiXtDJG7yZ7",
        "colab_type": "code",
        "colab": {}
      },
      "source": [
        ""
      ],
      "execution_count": 0,
      "outputs": []
    }
  ]
}